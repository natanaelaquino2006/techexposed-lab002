{
 "cells": [
  {
   "cell_type": "markdown",
   "id": "23a1c0a5",
   "metadata": {},
   "source": [
    "# 🧠 techExposed Lab #002: DevOps Pipeline Simulator\n",
    "\n",
    "**Lab Type:** Project  \n",
    "**Estimated Time:** 60–120 mins  \n",
    "**Skill Level:** Intermediate"
   ]
  },
  {
   "cell_type": "code",
   "execution_count": null,
   "id": "29095492",
   "metadata": {},
   "outputs": [],
   "source": [
    "# Let's begin by printing your name to personalize the notebook\n",
    "your_name = \"\"\n",
    "print(f\"Welcome to the lab, {your_name}!\")"
   ]
  },
  {
   "cell_type": "markdown",
   "id": "f72e4383",
   "metadata": {},
   "source": [
    "## 🔍 STAR Method Lab Prompt\n",
    "\n",
    "**Situation:**  \n",
    "[What technical system are you breaking down? Why is it misunderstood?]\n",
    "\n",
    "**Task:**  \n",
    "[What are you trying to explain or simulate?]\n",
    "\n",
    "**Action:**  \n",
    "[How will you use Gemini, markdown, and visual explanation to simplify the system?]\n",
    "\n",
    "**Expected Result:**  \n",
    "[An understandable explanation or MVP that shows how it works.]"
   ]
  },
  {
   "cell_type": "markdown",
   "id": "67e71e94",
   "metadata": {},
   "source": [
    "## ✍️ Your Assignment\n",
    "\n",
    "_Use this section to complete your deliverable:_\n",
    "\n",
    "```markdown\n",
    "(Example Format)\n",
    "\n",
    "- **System**: CI/CD Pipeline (Code → Build → Test → Deploy)  \n",
    "- **Tools Used**: GitHub, Google Colab, Firebase Hosting (mocked)  \n",
    "- **STAR Output**:  \n",
    "   - S: Teams need to ship faster with fewer bugs  \n",
    "   - T: Simulate a DevOps pipeline using mock tools  \n",
    "   - A: Wrote YAML-like steps in markdown + Gemini overview  \n",
    "   - R: Clear simulation of how DevOps workflows function  \n",
    "```"
   ]
  }
 ],
 "metadata": {},
 "nbformat": 4,
 "nbformat_minor": 5
}
